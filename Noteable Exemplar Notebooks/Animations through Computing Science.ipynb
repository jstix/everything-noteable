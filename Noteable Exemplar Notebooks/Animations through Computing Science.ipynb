{
 "cells": [
  {
   "cell_type": "markdown",
   "metadata": {},
   "source": [
    "![Noteable.ac.uk Banner](https://github.com/jstix/mr-noteable/blob/master/Banner%20image/1500x500.jfif?raw=true)"
   ]
  },
  {
   "cell_type": "markdown",
   "metadata": {},
   "source": [
    "# Animations and games"
   ]
  },
  {
   "cell_type": "markdown",
   "metadata": {},
   "source": [
    "## Instructions"
   ]
  },
  {
   "cell_type": "markdown",
   "metadata": {},
   "source": [
    "Press Cell and then Run to see the output of a particular cell. In case you would like to see the output of the whole file, just press Cell, then Run All. For animations, press the pause and play buttons at your own leisure. There are also options for running the naimation faster, or lower."
   ]
  },
  {
   "cell_type": "markdown",
   "metadata": {},
   "source": [
    "## Goals"
   ]
  },
  {
   "cell_type": "markdown",
   "metadata": {},
   "source": [
    "The purpose of this notebook is to make a student more familiar with animations, to see how they work and some of their applications, and to make them more familiar with some data analysis and plotting techniques. For the first part of workshop, there is heavy use of matplotlib and numpy libraries which has not been yet taught, so no coding is required. Moreover, it is not expected for students to know how to code this from scratch. This is only a way to visualize some interesting applications of computing in the science field. However, changing at some point the parameters is god practice for student both in coding and in mathematics. <br> <br> Equally, the student could get more familiar with some basic games and the way they can be programmed, such as Tic-Tac-Toe. <b> Optional material: </b> For those who want to go more into the computing science field, students can also compete against the computer and witness how an AI algorithm can be built when playing against it."
   ]
  },
  {
   "cell_type": "markdown",
   "metadata": {},
   "source": [
    "## Explore"
   ]
  },
  {
   "cell_type": "markdown",
   "metadata": {},
   "source": [
    "Let us delve into the field of animations, and how they can be applied. Begin with importing some basic libraries in Python"
   ]
  },
  {
   "cell_type": "code",
   "execution_count": 1,
   "metadata": {},
   "outputs": [],
   "source": [
    "import numpy as np\n",
    "import matplotlib.pyplot as plt\n",
    "from matplotlib import animation\n",
    "from IPython.display import HTML"
   ]
  },
  {
   "cell_type": "markdown",
   "metadata": {},
   "source": [
    "For an animation, what we need first of all is an empty blank table with some axis labeled. The table will be filled soon with some content. The following commands are used:"
   ]
  },
  {
   "cell_type": "code",
   "execution_count": 2,
   "metadata": {},
   "outputs": [
    {
     "data": {
      "image/png": "[encoded data removed]",
      "text/plain": [
       "<Figure size 432x288 with 1 Axes>"
      ]
     },
     "metadata": {
      "needs_background": "light"
     },
     "output_type": "display_data"
    }
   ],
   "source": [
    "fig, ax = plt.subplots() # An empty figure is created\n",
    "ax.set_xlim(0, 2) # x-axis set with limits (0,2)\n",
    "ax.set_ylim(-2, 2) # y-axis set with limits (-2,2)\n",
    "line, = ax.plot([], [], lw=2)"
   ]
  },
  {
   "cell_type": "markdown",
   "metadata": {},
   "source": [
    "Now comes the initialization function of our animation. It is initialized with empty lists which will be updated later. Th whole procedure is similar to the object-oriented programming design. "
   ]
  },
  {
   "cell_type": "code",
   "execution_count": 3,
   "metadata": {},
   "outputs": [],
   "source": [
    "# initialization function\n",
    "def init():\n",
    "    line.set_data([], [])\n",
    "    return (line,)"
   ]
  },
  {
   "cell_type": "markdown",
   "metadata": {},
   "source": [
    "Now, update the function at each step (analogous to the methods in Object-Oriented Programming) by using a function animate - here comes the tricky part, where we have to define what we want to simulate. Let us begin with something seen almost everywhere we look around - <b> wave. </b> For those of you taking physics exams - do you remember, or know, how a wave looks like (both in maths formula and ? <br> <br> Let us begin with the simple example of a harmonic wave (pattern which repeats itself periodically)"
   ]
  },
  {
   "cell_type": "code",
   "execution_count": 4,
   "metadata": {},
   "outputs": [],
   "source": [
    "# animation function. This will be call in a sequence to generate frames.\n",
    "def animate(i):\n",
    "    x = np.linspace(0, 2, 2000)\n",
    "    y = np.sin(2 * np.pi * (x - 0.01 * i))\n",
    "    line.set_data(x, y)\n",
    "    return (line,)"
   ]
  },
  {
   "cell_type": "markdown",
   "metadata": {},
   "source": [
    "Let us look into the function briefly. x is initialised as a numpy array from 0 to 10 with 10000 points to analyze. y is a sinus function basically, with i playing the role of time. <br> <br> Now call the initialisation and the updating function all-together to get the result. This is a function imported from matplotlib library which does all the work for us, so let's see it:"
   ]
  },
  {
   "cell_type": "code",
   "execution_count": 1,
   "metadata": {},
   "outputs": [
    {
     "ename": "NameError",
     "evalue": "name 'animation' is not defined",
     "output_type": "error",
     "traceback": [
      "\u001b[0;31m---------------------------------------------------------------------------\u001b[0m",
      "\u001b[0;31mNameError\u001b[0m                                 Traceback (most recent call last)",
      "\u001b[0;32m<ipython-input-1-8c391eb77e35>\u001b[0m in \u001b[0;36m<module>\u001b[0;34m\u001b[0m\n\u001b[1;32m      1\u001b[0m \u001b[0;31m# call the animator.  blit=True means only re-draw the parts that have changed.\u001b[0m\u001b[0;34m\u001b[0m\u001b[0;34m\u001b[0m\u001b[0;34m\u001b[0m\u001b[0m\n\u001b[0;32m----> 2\u001b[0;31m anim = animation.FuncAnimation(\n\u001b[0m\u001b[1;32m      3\u001b[0m     \u001b[0mfig\u001b[0m\u001b[0;34m,\u001b[0m \u001b[0;31m# Update the figure at each step\u001b[0m\u001b[0;34m\u001b[0m\u001b[0;34m\u001b[0m\u001b[0m\n\u001b[1;32m      4\u001b[0m     \u001b[0manimate\u001b[0m\u001b[0;34m,\u001b[0m \u001b[0;31m# using the animate function\u001b[0m\u001b[0;34m\u001b[0m\u001b[0;34m\u001b[0m\u001b[0m\n\u001b[1;32m      5\u001b[0m     \u001b[0minit_func\u001b[0m\u001b[0;34m=\u001b[0m\u001b[0minit\u001b[0m\u001b[0;34m,\u001b[0m \u001b[0;31m# which is initialized using the constructor\u001b[0m\u001b[0;34m\u001b[0m\u001b[0;34m\u001b[0m\u001b[0m\n",
      "\u001b[0;31mNameError\u001b[0m: name 'animation' is not defined"
     ]
    }
   ],
   "source": [
    "# call the animator.  blit=True means only re-draw the parts that have changed.\n",
    "anim = animation.FuncAnimation(\n",
    "    fig, # Update the figure at each step\n",
    "    animate, # using the animate function\n",
    "    init_func=init, # which is initialized using the constructor\n",
    "    frames=300, # 600 frames are processed\n",
    "    interval=10, # delay between the frames\n",
    "    blit=True\n",
    ")\n",
    "\n",
    "HTML(anim.to_jshtml())"
   ]
  },
  {
   "cell_type": "markdown",
   "metadata": {},
   "source": [
    "<b> Congratulations! </b> You have made your first animation. This is a wave going to the right with some speed. <br><br> Let us analyse the waves a bit more, just to check some interesting aspects. <b> Question: </b> How does a wave moving to the left look like? We will do now this exercise:"
   ]
  },
  {
   "cell_type": "code",
   "execution_count": 6,
   "metadata": {},
   "outputs": [],
   "source": [
    "def animate_stationary(i):\n",
    "    x = np.linspace(0, 10, 10000)\n",
    "    y = np.sin(2 * np.pi * (x - 0.01 * i)) + np.sin(2 * np.pi * (x + 0.01 * i))\n",
    "    line.set_data(x, y)\n",
    "    return (line,)"
   ]
  },
  {
   "cell_type": "code",
   "execution_count": 7,
   "metadata": {},
   "outputs": [],
   "source": [
    "# call the animator.  blit=True means only re-draw the parts that have changed.\n",
    "anim = animation.FuncAnimation(\n",
    "    fig, # Update the figure at each step\n",
    "    animate_stationary, # using the animate function\n",
    "    init_func=init, # which is initialized using the constructor\n",
    "    frames=300, # 600 frames are processed\n",
    "    interval=10, # delay between the frames\n",
    "    blit=True\n",
    ")\n",
    "\n",
    "HTML(anim.to_jshtml())"
   ]
  },
  {
   "cell_type": "markdown",
   "metadata": {},
   "source": [
    "This is how a <b> stationary wave </b> looks like (You will learn more about it in your physics classes). Let us now analyze one more different phenomenon, where the waves differ only slightly, and see what happens:"
   ]
  },
  {
   "cell_type": "code",
   "execution_count": 8,
   "metadata": {},
   "outputs": [],
   "source": [
    "def animate_beats(i):\n",
    "    x = np.linspace(0, 2, 2000)\n",
    "    y = np.sin(2 * np.pi * (x - 0.01 * i)) + np.sin(2 * np.pi * (1.1 * x - 0.01 * i))\n",
    "    line.set_data(x, y)\n",
    "    return (line,)"
   ]
  },
  {
   "cell_type": "code",
   "execution_count": null,
   "metadata": {},
   "outputs": [],
   "source": [
    "# call the animator.  blit=True means only re-draw the parts that have changed.\n",
    "anim = animation.FuncAnimation(\n",
    "    fig, # Update the figure at each step\n",
    "    animate_beats, # using the animate function\n",
    "    init_func=init, # which is initialized using the constructor\n",
    "    frames=300, # 600 frames are processed\n",
    "    interval=10, # delay between the frames\n",
    "    blit=True\n",
    ")\n",
    "\n",
    "HTML(anim.to_jshtml())"
   ]
  },
  {
   "cell_type": "markdown",
   "metadata": {},
   "source": [
    "This looks different, but let us visualize it at a larger scale. All we need to modify is the dimensions of the axis - do not go for two units, but use, let's say, ten, instead."
   ]
  },
  {
   "cell_type": "code",
   "execution_count": null,
   "metadata": {},
   "outputs": [],
   "source": [
    "fig, ax = plt.subplots() # An empty figure is created\n",
    "ax.set_xlim(0, 10) # x-axis set with limits (0,2)\n",
    "ax.set_ylim(-2, 2) # y-axis set with limits (-2,2)\n",
    "line, = ax.plot([], [], lw=2)"
   ]
  },
  {
   "cell_type": "code",
   "execution_count": null,
   "metadata": {},
   "outputs": [],
   "source": [
    "def animate_beats(i):\n",
    "    x = np.linspace(0, 10, 10000)\n",
    "    y = np.sin(2 * np.pi * (x - 0.01 * i)) + np.sin(2 * np.pi * (1.1 * x - 0.01 * i))\n",
    "    line.set_data(x, y)\n",
    "    return (line,)"
   ]
  },
  {
   "cell_type": "code",
   "execution_count": null,
   "metadata": {},
   "outputs": [],
   "source": [
    "# call the animator.  blit=True means only re-draw the parts that have changed.\n",
    "anim = animation.FuncAnimation(\n",
    "    fig, # Update the figure at each step\n",
    "    animate_beats, # using the animate function\n",
    "    init_func=init, # which is initialized using the constructor\n",
    "    frames=300, # 600 frames are processed\n",
    "    interval=10, # delay between the frames\n",
    "    blit=True\n",
    ")\n",
    "\n",
    "HTML(anim.to_jshtml())"
   ]
  },
  {
   "cell_type": "markdown",
   "metadata": {},
   "source": [
    "This is the behaviour of what is referred to in Physics as the <b> beats </b> phenomenon. From here, concepts such as group velocity and phase velocity are derived, and can be easily visualized in Python. The purpose of this notebook is to gain a greater understanding of how a computer can help us in visualizing some phenomena. "
   ]
  },
  {
   "cell_type": "markdown",
   "metadata": {},
   "source": [
    "![Noteable license](https://github.com/jstix/mr-noteable/blob/master/Banner%20image/Screenshot%202021-03-05%20115453.png?raw=true)"
   ]
  }
 ],
 "metadata": {
  "kernelspec": {
   "display_name": "Python 3",
   "language": "python",
   "name": "python3"
  },
  "language_info": {
   "codemirror_mode": {
    "name": "ipython",
    "version": 3
   },
   "file_extension": ".py",
   "mimetype": "text/x-python",
   "name": "python",
   "nbconvert_exporter": "python",
   "pygments_lexer": "ipython3",
   "version": "3.7.6"
  }
 },
 "nbformat": 4,
 "nbformat_minor": 4
}
